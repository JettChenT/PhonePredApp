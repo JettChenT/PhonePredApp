{
 "cells": [
  {
   "cell_type": "code",
   "execution_count": 1,
   "metadata": {
    "gradient": {}
   },
   "outputs": [],
   "source": [
    "import tensorflow as tf\n",
    "from tensorflow import keras"
   ]
  },
  {
   "cell_type": "code",
   "execution_count": 2,
   "metadata": {
    "gradient": {}
   },
   "outputs": [],
   "source": [
    "import ipywidgets as widgets\n",
    "from IPython.display import display"
   ]
  },
  {
   "cell_type": "code",
   "execution_count": 3,
   "metadata": {
    "gradient": {}
   },
   "outputs": [],
   "source": [
    "import numpy as np"
   ]
  },
  {
   "cell_type": "code",
   "execution_count": 4,
   "metadata": {
    "gradient": {}
   },
   "outputs": [],
   "source": [
    "Brands = [\n",
    "    \"Apple\",\n",
    "    \"XiaoMi\",\n",
    "    \"Huawei\",\n",
    "    \"Oppo\",\n",
    "    \"Vivo\",\n",
    "    \"Samsung\",\n",
    "    \"Google Pixel\",\n",
    "    \"8848\"\n",
    "]"
   ]
  },
  {
   "cell_type": "code",
   "execution_count": null,
   "metadata": {
    "gradient": {}
   },
   "outputs": [],
   "source": [
    "brand = widgets.Select(\n",
    "    options=Brands,\n",
    "    value=\"Apple\"\n",
    ")\n",
    "bbox = widgets.VBox([\n",
    "widgets.Label(value='If you could have a phone of any brand you want, which brand would it be?'),\n",
    "brand\n",
    "]\n",
    ")"
   ]
  },
  {
   "cell_type": "code",
   "execution_count": 5,
   "metadata": {
    "gradient": {}
   },
   "outputs": [],
   "source": [
    "st = widgets.IntSlider(\n",
    "    value=4,\n",
    "    min=0,\n",
    "    max=10,\n",
    "    step=1,\n",
    "    orientation='horizontal',\n",
    "    readout=True,\n",
    "    readout_format='d'\n",
    ")\n",
    "tbox = widgets.VBox([\n",
    "widgets.Label(value='Around how much time do you spend around your phone each day? (n to n+1 hours)'),\n",
    "st\n",
    "]\n",
    ")"
   ]
  },
  {
   "cell_type": "code",
   "execution_count": 6,
   "metadata": {
    "gradient": {}
   },
   "outputs": [],
   "source": [
    "reasons = [\n",
    "    \"Memory\",\n",
    "    \"Pricing\",\n",
    "    \"Storage\",\n",
    "    \"Operating system\",\n",
    "    \"Brand\",\n",
    "    \"Publicity\",\n",
    "    \"Screen resolution\",\n",
    "    \"Screen refresh rate\",\n",
    "    \"Screen size\",\n",
    "    \"Battery\"\n",
    "]\n",
    "chkLst = [widgets.Checkbox(description=reason) for reason in reasons]\n",
    "rbox = widgets.VBox([\n",
    "widgets.Label(value='What factors are important to you when purchasing a phone?')\n",
    "]+chkLst\n",
    ")"
   ]
  },
  {
   "cell_type": "code",
   "execution_count": 9,
   "metadata": {},
   "outputs": [],
   "source": [
    "sat = widgets.IntSlider(\n",
    "    value=4,\n",
    "    min=1,\n",
    "    max=5,\n",
    "    step=1,\n",
    "    orientation='horizontal',\n",
    "    readout=True,\n",
    "    readout_format='d'\n",
    ")\n",
    "satBox = widgets.VBox([\n",
    "    widgets.Label(value = \"How satishfied are you about your phone?\"),\n",
    "    sat\n",
    "])"
   ]
  },
  {
   "cell_type": "code",
   "execution_count": 7,
   "metadata": {
    "gradient": {}
   },
   "outputs": [],
   "source": [
    "def to_categorical(brand):\n",
    "    return [b==brand for b in Brands]"
   ]
  },
  {
   "cell_type": "code",
   "execution_count": 10,
   "metadata": {
    "gradient": {}
   },
   "outputs": [],
   "source": [
    "pred_mod = keras.models.load_model(\"model2.h5\")"
   ]
  },
  {
   "cell_type": "code",
   "execution_count": 11,
   "metadata": {
    "gradient": {}
   },
   "outputs": [],
   "source": [
    "bnd = widgets.Label(\"Your Brand: Unknown(Change any value to predict)\")"
   ]
  },
  {
   "cell_type": "code",
   "execution_count": 17,
   "metadata": {
    "gradient": {}
   },
   "outputs": [],
   "source": [
    "def pred(*args):\n",
    "    inp = np.array([st.value]+[r.value for r in chkLst]+[sat.value]).reshape(1,12)\n",
    "    pd = pred_mod.predict(inp)\n",
    "    r = Brands[np.argmax(pd)]\n",
    "    bnd.value = f\"Your brand: {r}\""
   ]
  },
  {
   "cell_type": "code",
   "execution_count": 24,
   "metadata": {},
   "outputs": [],
   "source": [
    "for c in [sat,st]+chkLst:\n",
    "    c.observe(pred)"
   ]
  },
  {
   "cell_type": "code",
   "execution_count": 25,
   "metadata": {
    "gradient": {}
   },
   "outputs": [
    {
     "data": {
      "application/vnd.jupyter.widget-view+json": {
       "model_id": "13e412d67ebb41d4b5f6193bb98707e1",
       "version_major": 2,
       "version_minor": 0
      },
      "text/plain": [
       "VBox(children=(VBox(children=(Label(value='Around how much time do you spend around your phone each day? (n to…"
      ]
     },
     "metadata": {},
     "output_type": "display_data"
    }
   ],
   "source": [
    "interface = widgets.VBox(\n",
    "[tbox,rbox,satBox,bnd]\n",
    ")\n",
    "display(interface)"
   ]
  }
 ],
 "metadata": {
  "kernelspec": {
   "display_name": "Python 3",
   "language": "python",
   "name": "python3"
  },
  "language_info": {
   "codemirror_mode": {
    "name": "ipython",
    "version": 3
   },
   "file_extension": ".py",
   "mimetype": "text/x-python",
   "name": "python",
   "nbconvert_exporter": "python",
   "pygments_lexer": "ipython3",
   "version": "3.6.9"
  }
 },
 "nbformat": 4,
 "nbformat_minor": 2
}
