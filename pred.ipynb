{
 "cells": [
  {
   "cell_type": "code",
   "execution_count": 1,
   "metadata": {},
   "outputs": [],
   "source": [
    "import tensorflow as tf\n",
    "from tensorflow import keras"
   ]
  },
  {
   "cell_type": "code",
   "execution_count": 2,
   "metadata": {},
   "outputs": [],
   "source": [
    "import ipywidgets as widgets\n",
    "from IPython.display import display"
   ]
  },
  {
   "cell_type": "code",
   "execution_count": 3,
   "metadata": {},
   "outputs": [],
   "source": [
    "import numpy as np"
   ]
  },
  {
   "cell_type": "code",
   "execution_count": 4,
   "metadata": {},
   "outputs": [],
   "source": [
    "Brands = [\n",
    "    \"Apple\",\n",
    "    \"XiaoMi\",\n",
    "    \"Huawei\",\n",
    "    \"Oppo\",\n",
    "    \"Vivo\",\n",
    "    \"Samsung\",\n",
    "    \"Google Pixel\",\n",
    "    \"8848\"\n",
    "]"
   ]
  },
  {
   "cell_type": "code",
   "execution_count": 5,
   "metadata": {},
   "outputs": [],
   "source": [
    "brand = widgets.Select(\n",
    "    options=Brands,\n",
    "    value=\"Apple\"\n",
    ")\n",
    "bbox = widgets.VBox([\n",
    "widgets.Label(value='If you could have a phone of any brand you want, which brand would it be?'),\n",
    "brand\n",
    "]\n",
    ")"
   ]
  },
  {
   "cell_type": "code",
   "execution_count": 6,
   "metadata": {},
   "outputs": [],
   "source": [
    "st = widgets.IntSlider(\n",
    "    value=4,\n",
    "    min=0,\n",
    "    max=10,\n",
    "    step=1,\n",
    "    orientation='horizontal',\n",
    "    readout=True,\n",
    "    readout_format='d'\n",
    ")\n",
    "tbox = widgets.VBox([\n",
    "widgets.Label(value='Around how much time do you spend around your phone each day? (n to n+1 hours)'),\n",
    "st\n",
    "]\n",
    ")"
   ]
  },
  {
   "cell_type": "code",
   "execution_count": 7,
   "metadata": {},
   "outputs": [],
   "source": [
    "reasons = [\n",
    "    \"Memory\",\n",
    "    \"Pricing\",\n",
    "    \"Storage\",\n",
    "    \"Operating system\",\n",
    "    \"Brand\",\n",
    "    \"Publicity\",\n",
    "    \"Screen resolution\",\n",
    "    \"Screen refresh rate\",\n",
    "    \"Screen size\",\n",
    "    \"Battery\"\n",
    "]\n",
    "chkLst = [widgets.Checkbox(description=reason) for reason in reasons]\n",
    "rbox = widgets.VBox([\n",
    "widgets.Label(value='What factors are important to you when purchasing a phone?')\n",
    "]+chkLst\n",
    ")"
   ]
  },
  {
   "cell_type": "code",
   "execution_count": 8,
   "metadata": {},
   "outputs": [],
   "source": [
    "def to_categorical(brand):\n",
    "    return [b==brand for b in Brands]"
   ]
  },
  {
   "cell_type": "code",
   "execution_count": 9,
   "metadata": {},
   "outputs": [],
   "source": [
    "pred_mod = keras.models.load_model(\"model.h5\")"
   ]
  },
  {
   "cell_type": "code",
   "execution_count": 10,
   "metadata": {},
   "outputs": [],
   "source": [
    "bnd = widgets.Label(\"Your Brand: Unknown(Change any value to predict)\")"
   ]
  },
  {
   "cell_type": "code",
   "execution_count": 11,
   "metadata": {},
   "outputs": [],
   "source": [
    "def pred(*args):\n",
    "    inp = np.array([st.value]+[r.value for r in chkLst]+to_categorical(brand.value),dtype=\"int\").reshape(1,19)\n",
    "    pd = pred_mod.predict(inp)\n",
    "    r = Brands[np.argmax(pd)]\n",
    "    bnd.value = f\"Your brand: {r}\""
   ]
  },
  {
   "cell_type": "code",
   "execution_count": 12,
   "metadata": {},
   "outputs": [],
   "source": [
    "for c in [brand,st]+chkLst:\n",
    "    c.observe(pred)"
   ]
  },
  {
   "cell_type": "code",
   "execution_count": 13,
   "metadata": {},
   "outputs": [
    {
     "data": {
      "application/vnd.jupyter.widget-view+json": {
       "model_id": "9737be8fe2bb41529cecf3ef334fcd5f",
       "version_major": 2,
       "version_minor": 0
      },
      "text/plain": [
       "VBox(children=(VBox(children=(Label(value='If you could have a phone of any brand you want, which brand would …"
      ]
     },
     "metadata": {},
     "output_type": "display_data"
    }
   ],
   "source": [
    "interface = widgets.VBox(\n",
    "[bbox,tbox,rbox,bnd]\n",
    ")\n",
    "display(interface)"
   ]
  },
  {
   "cell_type": "code",
   "execution_count": null,
   "metadata": {},
   "outputs": [],
   "source": []
  }
 ],
 "metadata": {
  "kernelspec": {
   "display_name": "Python 3",
   "language": "python",
   "name": "python3"
  },
  "language_info": {
   "codemirror_mode": {
    "name": "ipython",
    "version": 3
   },
   "file_extension": ".py",
   "mimetype": "text/x-python",
   "name": "python",
   "nbconvert_exporter": "python",
   "pygments_lexer": "ipython3",
   "version": "3.6.9"
  }
 },
 "nbformat": 4,
 "nbformat_minor": 2
}
